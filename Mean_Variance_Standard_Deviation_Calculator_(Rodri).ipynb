{
  "nbformat": 4,
  "nbformat_minor": 0,
  "metadata": {
    "colab": {
      "provenance": [],
      "authorship_tag": "ABX9TyMi7cPWExGZ/om3WIvTmvoZ",
      "include_colab_link": true
    },
    "kernelspec": {
      "name": "python3",
      "display_name": "Python 3"
    },
    "language_info": {
      "name": "python"
    }
  },
  "cells": [
    {
      "cell_type": "markdown",
      "metadata": {
        "id": "view-in-github",
        "colab_type": "text"
      },
      "source": [
        "<a href=\"https://colab.research.google.com/github/JugueteRabioso/Python-Prep/blob/main/Mean_Variance_Standard_Deviation_Calculator_(Rodri).ipynb\" target=\"_parent\"><img src=\"https://colab.research.google.com/assets/colab-badge.svg\" alt=\"Open In Colab\"/></a>"
      ]
    },
    {
      "cell_type": "markdown",
      "source": [
        "Importing libraries"
      ],
      "metadata": {
        "id": "tVIiQoUCU37P"
      }
    },
    {
      "cell_type": "code",
      "execution_count": 18,
      "metadata": {
        "id": "j2XPmsiKUnbi"
      },
      "outputs": [],
      "source": [
        "import numpy as np\n",
        "import pandas as pd"
      ]
    },
    {
      "cell_type": "code",
      "source": [
        "import numpy as np\n",
        "\n",
        "def calculate(lista):\n",
        "\n",
        "    # Check if the input list has exactly 9 elements\n",
        "    if len(lista) != 9:\n",
        "        raise ValueError(\"List must contain nine numbers.\")\n",
        "\n",
        "    # Convert the list to a 3x3 NumPy array\n",
        "    matrix = np.array(lista).reshape(3, 3)\n",
        "\n",
        "    # Calculate mean, variance, standard deviation, max, min, and sum along both axes and flattened\n",
        "    result = {\n",
        "        'mean': [matrix.mean(axis=0).tolist(), matrix.mean(axis=1).tolist(), matrix.mean().item()],\n",
        "        'variance': [matrix.var(axis=0).tolist(), matrix.var(axis=1).tolist(), matrix.var().item()],\n",
        "        'standard deviation': [matrix.std(axis=0).tolist(), matrix.std(axis=1).tolist(), matrix.std().item()],\n",
        "        'max': [matrix.max(axis=0).tolist(), matrix.max(axis=1).tolist(), matrix.max().item()],\n",
        "        'min': [matrix.min(axis=0).tolist(), matrix.min(axis=1).tolist(), matrix.min().item()],\n",
        "        'sum': [matrix.sum(axis=0).tolist(), matrix.sum(axis=1).tolist(), matrix.sum().item()]\n",
        "    }\n",
        "\n",
        "    return result"
      ],
      "metadata": {
        "id": "3UvdFRLhaQJ2"
      },
      "execution_count": 37,
      "outputs": []
    },
    {
      "cell_type": "code",
      "source": [
        "def calculate(lst):\n",
        "    # Check if the input list has exactly 9 elements\n",
        "    if len(lst) != 9:\n",
        "        raise ValueError(\"List must contain nine numbers.\")\n",
        "\n",
        "    # Convert the list to a 3x3 NumPy array\n",
        "    matrix = np.array(lst).reshape(3, 3)\n",
        "\n",
        "    # Calculate mean, variance, standard deviation, max, min, and sum along both axes and flattened\n",
        "    result = {\n",
        "        'mean': [matrix.mean(axis=0).tolist(), matrix.mean(axis=1).tolist(), matrix.mean().item()],\n",
        "        'variance': [matrix.var(axis=0).tolist(), matrix.var(axis=1).tolist(), matrix.var().item()],\n",
        "        'standard deviation': [matrix.std(axis=0).tolist(), matrix.std(axis=1).tolist(), matrix.std().item()],\n",
        "        'max': [matrix.max(axis=0).tolist(), matrix.max(axis=1).tolist(), matrix.max().item()],\n",
        "        'min': [matrix.min(axis=0).tolist(), matrix.min(axis=1).tolist(), matrix.min().item()],\n",
        "        'sum': [matrix.sum(axis=0).tolist(), matrix.sum(axis=1).tolist(), matrix.sum().item()]\n",
        "    }\n",
        "\n",
        "    return result"
      ],
      "metadata": {
        "id": "DuVYObxzbWD3"
      },
      "execution_count": 39,
      "outputs": []
    },
    {
      "cell_type": "code",
      "source": [
        "# Example usage:\n",
        "list = [1, 2, 3, 4, 5, 6, 7, 8, 9]\n",
        "result_dict = calculate(list)\n",
        "print(result_dict)"
      ],
      "metadata": {
        "colab": {
          "base_uri": "https://localhost:8080/"
        },
        "id": "sQyCi3iiXxTv",
        "outputId": "5a8a68ba-6f38-4595-cbeb-9eabc438a224"
      },
      "execution_count": 46,
      "outputs": [
        {
          "output_type": "stream",
          "name": "stdout",
          "text": [
            "{'mean': [[4.0, 5.0, 6.0], [2.0, 5.0, 8.0], 5.0], 'variance': [[6.0, 6.0, 6.0], [0.6666666666666666, 0.6666666666666666, 0.6666666666666666], 6.666666666666667], 'standard deviation': [[2.449489742783178, 2.449489742783178, 2.449489742783178], [0.816496580927726, 0.816496580927726, 0.816496580927726], 2.581988897471611], 'max': [[7, 8, 9], [3, 6, 9], 9], 'min': [[1, 2, 3], [1, 4, 7], 1], 'sum': [[12, 15, 18], [6, 15, 24], 45]}\n"
          ]
        }
      ]
    }
  ]
}